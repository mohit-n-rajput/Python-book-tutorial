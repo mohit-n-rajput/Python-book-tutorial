{
 "cells": [
  {
   "cell_type": "markdown",
   "id": "82ea5ce0",
   "metadata": {
    "toc": true
   },
   "source": [
    "<h1>Table of Contents<span class=\"tocSkip\"></span></h1>\n",
    "<div class=\"toc\"><ul class=\"toc-item\"><li><span><a href=\"#Everything-in-your-computer-is-just-a-sequence-of-bits\" data-toc-modified-id=\"Everything-in-your-computer-is-just-a-sequence-of-bits-1\"><span class=\"toc-item-num\">1&nbsp;&nbsp;</span>Everything in your computer is just a sequence of bits</a></span></li><li><span><a href=\"#Python-Data-Are-Objects\" data-toc-modified-id=\"Python-Data-Are-Objects-2\"><span class=\"toc-item-num\">2&nbsp;&nbsp;</span>Python Data Are Objects</a></span></li><li><span><a href=\"#Type-and--Mutability:\" data-toc-modified-id=\"Type-and--Mutability:-3\"><span class=\"toc-item-num\">3&nbsp;&nbsp;</span>Type and  Mutability:</a></span><ul class=\"toc-item\"><li><span><a href=\"#Python-is-strongly-typed,-which-means-that-the-type-of-an-object-does-not-change,-even-if-its-value-is-mutable.\" data-toc-modified-id=\"Python-is-strongly-typed,-which-means-that-the-type-of-an-object-does-not-change,-even-if-its-value-is-mutable.-3.1\"><span class=\"toc-item-num\">3.1&nbsp;&nbsp;</span><strong>Python is strongly typed, which means that the type of an object does not change, even if its value is mutable.</strong></a></span></li></ul></li><li><span><a href=\"#Literal-Values\" data-toc-modified-id=\"Literal-Values-4\"><span class=\"toc-item-num\">4&nbsp;&nbsp;</span>Literal Values</a></span><ul class=\"toc-item\"><li><span><a href=\"#Variables:\" data-toc-modified-id=\"Variables:-4.1\"><span class=\"toc-item-num\">4.1&nbsp;&nbsp;</span>Variables:</a></span></li><li><span><a href=\"#Variable-names-have-some-rules:\" data-toc-modified-id=\"Variable-names-have-some-rules:-4.2\"><span class=\"toc-item-num\">4.2&nbsp;&nbsp;</span>Variable names have some rules:</a></span></li><li><span><a href=\"#Reserved-words(keywords)\" data-toc-modified-id=\"Reserved-words(keywords)-4.3\"><span class=\"toc-item-num\">4.3&nbsp;&nbsp;</span>Reserved words(keywords)</a></span></li></ul></li><li><span><a href=\"#Variables-Are-Names,-Not-Places:\" data-toc-modified-id=\"Variables-Are-Names,-Not-Places:-5\"><span class=\"toc-item-num\">5&nbsp;&nbsp;</span>Variables Are Names, Not Places:</a></span><ul class=\"toc-item\"><li><span><a href=\"#Types-and-instances:\" data-toc-modified-id=\"Types-and-instances:-5.1\"><span class=\"toc-item-num\">5.1&nbsp;&nbsp;</span>Types and instances:</a></span></li></ul></li><li><span><a href=\"#Execution-of--python-program:\" data-toc-modified-id=\"Execution-of--python-program:-6\"><span class=\"toc-item-num\">6&nbsp;&nbsp;</span>Execution of  python program:</a></span></li><li><span><a href=\"#Assigning-values-to-variables\" data-toc-modified-id=\"Assigning-values-to-variables-7\"><span class=\"toc-item-num\">7&nbsp;&nbsp;</span>Assigning values to variables</a></span><ul class=\"toc-item\"><li><span><a href=\"#Copying\" data-toc-modified-id=\"Copying-7.1\"><span class=\"toc-item-num\">7.1&nbsp;&nbsp;</span>Copying</a></span></li><li><span><a href=\"#Case-for-mutable-object:\" data-toc-modified-id=\"Case-for-mutable-object:-7.2\"><span class=\"toc-item-num\">7.2&nbsp;&nbsp;</span>Case for mutable object:</a></span></li></ul></li></ul></div>"
   ]
  },
  {
   "cell_type": "markdown",
   "id": "fa09ae01",
   "metadata": {},
   "source": [
    "## Everything in your computer is just a sequence of bits"
   ]
  },
  {
   "cell_type": "markdown",
   "id": "efe4592f",
   "metadata": {},
   "source": [
    "<span class=\"mark\">Under the hood, everything in your computer is just a sequence of bits (see Appendix A). One of the insights of computing is that we can interpret those bits any way we want—as data of various sizes and types (numbers,\n",
    "text characters) or even as computer code itself.</span>We use Python to define\n",
    "chunks of these bits for different purposes, and to get them to and from the\n",
    "CPU."
   ]
  },
  {
   "cell_type": "markdown",
   "id": "037c29af",
   "metadata": {
    "ExecuteTime": {
     "end_time": "2021-07-25T15:45:28.210048Z",
     "start_time": "2021-07-25T15:45:28.199535Z"
    }
   },
   "source": [
    "<h2>Python Data Are Objects</h2>"
   ]
  },
  {
   "cell_type": "markdown",
   "id": "58c8111e",
   "metadata": {},
   "source": [
    "You can visualize your computer’s memory as a long series of shelves.Each slot on one of those memory shelves is one byte wide (eight bits), and slots are numbered from 0 (the first) to the end."
   ]
  },
  {
   "cell_type": "markdown",
   "id": "5594fbb7",
   "metadata": {},
   "source": [
    "![](img/2-1.jfif)"
   ]
  },
  {
   "cell_type": "markdown",
   "id": "a7ce4db6",
   "metadata": {},
   "source": [
    "**A Python program is given access to some of your computer’s memory by\n",
    "your operating system. That memory is used for the code of the program\n",
    "itself, and the data that it uses. The operating system ensures that the\n",
    "program cannot read or write other memory locations without somehow\n",
    "getting permission.**\n"
   ]
  },
  {
   "cell_type": "markdown",
   "id": "4147d806",
   "metadata": {},
   "source": [
    "Programs keep track of where (memory location) their bits are, and what\n",
    "(data type) they are. To your computer, it’s all just bits. The same bits mean\n",
    "different things, depending on what type we say they are. The same bit\n",
    "pattern might stand for the integer 65 or the text character A.\n"
   ]
  },
  {
   "cell_type": "markdown",
   "id": "08decdef",
   "metadata": {},
   "source": [
    "When you read about a\n",
    "“64-bit machine,” this means that an integer uses 64 bits (8 bytes)."
   ]
  },
  {
   "cell_type": "markdown",
   "id": "9ec5d241",
   "metadata": {},
   "source": [
    "Some languages plunk and pluck these raw values in memory, keeping\n",
    "track of their sizes and types. <span class=\"mark\">Instead of handling such raw data values\n",
    "directly, Python wraps each data value—booleans, integers, floats, strings,\n",
    "even large data structures, functions, and programs—in memory as an\n",
    "object.</span>"
   ]
  },
  {
   "cell_type": "markdown",
   "id": "b8e6c811",
   "metadata": {},
   "source": [
    "Using the memory shelves analogy, you can think of objects as variable sized boxes occupying spaces on those shelves, as shown in Figure.\n",
    "<span class=\"mark\">Python makes these object boxes, puts them in empty spaces on the shelves,\n",
    "and removes them when they’re no longer used.</span>"
   ]
  },
  {
   "cell_type": "markdown",
   "id": "cb9a5932",
   "metadata": {},
   "source": [
    "![](img/2-2.png)"
   ]
  },
  {
   "cell_type": "markdown",
   "id": "c253a924",
   "metadata": {},
   "source": [
    "In Python, an object is a chunk of data that contains at least the following:\n",
    "\n",
    "1. A type that defines what it can do (see the next section)\n",
    "2. A unique id to distinguish it from other objects\n",
    "3. A value consistent with its type\n",
    "4. A reference count that tracks how often this object is used\n"
   ]
  },
  {
   "cell_type": "markdown",
   "id": "81a31f55",
   "metadata": {},
   "source": [
    "Its id is like its location on the shelf, a unique identifier. Its type is like a\n",
    "factory stamp on the box, saying what it can do."
   ]
  },
  {
   "cell_type": "markdown",
   "id": "1cddb778",
   "metadata": {},
   "source": [
    "## Type and  Mutability:"
   ]
  },
  {
   "cell_type": "markdown",
   "id": "e21053fd",
   "metadata": {
    "ExecuteTime": {
     "end_time": "2021-07-25T16:09:50.475838Z",
     "start_time": "2021-07-25T16:09:50.435834Z"
    }
   },
   "source": [
    "![](img/2-3.png)"
   ]
  },
  {
   "cell_type": "markdown",
   "id": "5e240c19",
   "metadata": {},
   "source": [
    "The type also determines whether the data value contained by the box can\n",
    "be changed (mutable) or is constant (immutable)."
   ]
  },
  {
   "cell_type": "markdown",
   "id": "4d42a7e7",
   "metadata": {},
   "source": [
    "- Think of an immutable\n",
    "object as a sealed box, but with clear sides, like Figure 2-1; you can see the\n",
    "value but you can’t change it. \n",
    "- By the same analogy, a mutable object is like a box with a lid: not only can you see the value inside, you can also change it; <span class=\"mark\">however, you can’t change its type.</span>"
   ]
  },
  {
   "cell_type": "markdown",
   "id": "c1a1c615",
   "metadata": {},
   "source": [
    "### **Python is strongly typed, which means that the type of an object does not change, even if its value is mutable.**"
   ]
  },
  {
   "cell_type": "markdown",
   "id": "555785ce",
   "metadata": {},
   "source": [
    "## Literal Values\n"
   ]
  },
  {
   "cell_type": "markdown",
   "id": "91e65045",
   "metadata": {},
   "source": [
    "There are two ways of specifying data values in Python:\n",
    "- Literal\n",
    "- Variable"
   ]
  },
  {
   "cell_type": "markdown",
   "id": "c02a0996",
   "metadata": {},
   "source": [
    "### Variables:"
   ]
  },
  {
   "cell_type": "markdown",
   "id": "ad53a904",
   "metadata": {},
   "source": [
    "**variables**: Names for values in your computer’s memory that you want to use in a program.\n"
   ]
  },
  {
   "cell_type": "markdown",
   "id": "1307d50a",
   "metadata": {},
   "source": [
    "###  Variable names have some rules:"
   ]
  },
  {
   "cell_type": "markdown",
   "id": "1e1b9b9b",
   "metadata": {},
   "source": [
    "1. They can contain only these characters:\n",
    "    - Lowercase letters (a through z)\n",
    "    - Uppercase letters (A through Z)\n",
    "    - Digits (0 through 9)\n",
    "    - Underscore (_)\n",
    "2. They are case-sensitive: thing, Thing, and THING are different names.\n",
    "3. They must begin with a letter or an underscore, not a digit.\n",
    "4. Names that begin with an underscore are treated specially.\n",
    "5. They cannot be one of Python’s reserved words (also known as\n",
    "keywords).\n"
   ]
  },
  {
   "cell_type": "markdown",
   "id": "f3edea6d",
   "metadata": {},
   "source": [
    "### Reserved words(keywords)"
   ]
  },
  {
   "cell_type": "code",
   "execution_count": 3,
   "id": "96af74da",
   "metadata": {
    "ExecuteTime": {
     "end_time": "2021-07-25T16:20:28.843453Z",
     "start_time": "2021-07-25T16:20:28.834356Z"
    }
   },
   "outputs": [
    {
     "name": "stdout",
     "output_type": "stream",
     "text": [
      "\n",
      "Here is a list of the Python keywords.  Enter any keyword to get more help.\n",
      "\n",
      "False               class               from                or\n",
      "None                continue            global              pass\n",
      "True                def                 if                  raise\n",
      "and                 del                 import              return\n",
      "as                  elif                in                  try\n",
      "assert              else                is                  while\n",
      "async               except              lambda              with\n",
      "await               finally             nonlocal            yield\n",
      "break               for                 not                 \n",
      "\n"
     ]
    }
   ],
   "source": [
    "help(\"keywords\")"
   ]
  },
  {
   "cell_type": "code",
   "execution_count": 6,
   "id": "a953d785",
   "metadata": {
    "ExecuteTime": {
     "end_time": "2021-07-25T16:21:45.294229Z",
     "start_time": "2021-07-25T16:21:45.288045Z"
    }
   },
   "outputs": [
    {
     "name": "stdout",
     "output_type": "stream",
     "text": [
      "['False', 'None', 'True', 'and', 'as', 'assert', 'async', 'await', 'break', 'class', 'continue', 'def', 'del', 'elif', 'else', 'except', 'finally', 'for', 'from', 'global', 'if', 'import', 'in', 'is', 'lambda', 'nonlocal', 'not', 'or', 'pass', 'raise', 'return', 'try', 'while', 'with', 'yield']\n",
      "Total Keywords:  35\n"
     ]
    }
   ],
   "source": [
    "import keyword\n",
    "print(keyword.kwlist)\n",
    "print(\"Total Keywords: \",len(keyword.kwlist))"
   ]
  },
  {
   "cell_type": "markdown",
   "id": "7f47ead3",
   "metadata": {},
   "source": [
    "- These are valid names:\n",
    "1. a\n",
    "2. a1\n",
    "3. a_b_c___95\n",
    "4. _abc\n",
    "5. _1a\n",
    "\n",
    "\n",
    "- These names, however, are not valid:\n",
    "1. 1\n",
    "2. 1a\n",
    "3. 1_\n",
    "4. name!\n",
    "5. another-name"
   ]
  },
  {
   "cell_type": "markdown",
   "id": "336c0ade",
   "metadata": {},
   "source": [
    "in math, = means\n",
    "equality of both sides, but in programs it means assignment: assign the\n",
    "value on the right side to the variable on the left side."
   ]
  },
  {
   "cell_type": "markdown",
   "id": "16c4c965",
   "metadata": {},
   "source": [
    "<span class=\"mark\">The Assignment Operator An operator is a symbol, such as +, that performs an operation on one or more values.</span> \n",
    "\n",
    "- For example, the + operator takes two numbers, one to the left of the operator and one to the right, and adds them together. \n",
    "\n",
    "Values are assigned to variable names using a special symbol called the assignment operator (=). \n",
    "\n"
   ]
  },
  {
   "cell_type": "markdown",
   "id": "56a551bc",
   "metadata": {},
   "source": [
    "**The = operator takes the value to the right of the operator and assigns it to the name on the left.**"
   ]
  },
  {
   "cell_type": "markdown",
   "id": "52e88b48",
   "metadata": {},
   "source": [
    "Also in programs, everything on the right side needs to have a value (this is\n",
    "called being initialized). The right side can be a literal value, or a variable\n",
    "that has already been assigned a value, or a combination."
   ]
  },
  {
   "cell_type": "code",
   "execution_count": 7,
   "id": "fed5e536",
   "metadata": {
    "ExecuteTime": {
     "end_time": "2021-07-25T16:30:15.570539Z",
     "start_time": "2021-07-25T16:30:15.377583Z"
    }
   },
   "outputs": [
    {
     "ename": "NameError",
     "evalue": "name 'x' is not defined",
     "output_type": "error",
     "traceback": [
      "\u001b[1;31m---------------------------------------------------------------------------\u001b[0m",
      "\u001b[1;31mNameError\u001b[0m                                 Traceback (most recent call last)",
      "\u001b[1;32m<ipython-input-7-88c1a5748a34>\u001b[0m in \u001b[0;36m<module>\u001b[1;34m\u001b[0m\n\u001b[1;32m----> 1\u001b[1;33m \u001b[0my\u001b[0m \u001b[1;33m=\u001b[0m \u001b[0mx\u001b[0m \u001b[1;33m+\u001b[0m \u001b[1;36m12\u001b[0m\u001b[1;33m\u001b[0m\u001b[1;33m\u001b[0m\u001b[0m\n\u001b[0m",
      "\u001b[1;31mNameError\u001b[0m: name 'x' is not defined"
     ]
    }
   ],
   "source": [
    "y = x + 12 "
   ]
  },
  {
   "cell_type": "markdown",
   "id": "f6b1ffba",
   "metadata": {},
   "source": [
    "You’ll get the full rundown on exceptions in Chapter 9. In computerese,\n",
    "we’d say that this x was uninitialized."
   ]
  },
  {
   "cell_type": "code",
   "execution_count": 8,
   "id": "cd52c48b",
   "metadata": {
    "ExecuteTime": {
     "end_time": "2021-07-25T16:30:53.005526Z",
     "start_time": "2021-07-25T16:30:52.980542Z"
    }
   },
   "outputs": [
    {
     "data": {
      "text/plain": [
       "7"
      ]
     },
     "execution_count": 8,
     "metadata": {},
     "output_type": "execute_result"
    }
   ],
   "source": [
    "y = 5\n",
    "x = 12 - y\n",
    "x"
   ]
  },
  {
   "cell_type": "markdown",
   "id": "85e3b374",
   "metadata": {},
   "source": [
    "## Variables Are Names, Not Places:"
   ]
  },
  {
   "cell_type": "markdown",
   "id": "76edd319",
   "metadata": {},
   "source": [
    "**Python: variables\n",
    "are just names. This is different from many other computer languages, and a\n",
    "key thing to know about Python, especially when we get to mutable objects\n",
    "like lists.**"
   ]
  },
  {
   "cell_type": "markdown",
   "id": "dcc167e6",
   "metadata": {},
   "source": [
    "Assignment does not copy a value; it just attaches a name to the\n",
    "object that contains the data. The name is a reference to a thing rather than\n",
    "the thing itself"
   ]
  },
  {
   "cell_type": "markdown",
   "id": "d665bc2d",
   "metadata": {},
   "source": [
    "![](img/2-4.png)"
   ]
  },
  {
   "cell_type": "markdown",
   "id": "69883ab0",
   "metadata": {},
   "source": [
    "**In other languages, the variable itself has a type, and binds to a memory\n",
    "location. You can change the value at that location, but it needs to be of the\n",
    "same type. This is why static languages make you declare the types of\n",
    "variables. Python doesn’t, because a name can refer to anything, and we get\n",
    "the value and type by “following the string” to the data object itself. This\n",
    "saves time.**"
   ]
  },
  {
   "cell_type": "markdown",
   "id": "c4e54164",
   "metadata": {},
   "source": [
    "But there are some downsides:\n",
    "\n",
    "- You may misspell a variable and get an exception because it doesn’t refer to anything, and Python doesn’t automatically check this as static languages do. \n",
    "- Python’s raw speed is slower than a language like C. It makes the computer do more work so you don’t have to.\n"
   ]
  },
  {
   "cell_type": "code",
   "execution_count": 9,
   "id": "ead2e82c",
   "metadata": {
    "ExecuteTime": {
     "end_time": "2021-07-25T16:38:51.740059Z",
     "start_time": "2021-07-25T16:38:51.733060Z"
    }
   },
   "outputs": [
    {
     "name": "stdout",
     "output_type": "stream",
     "text": [
      "5\n",
      "5\n"
     ]
    }
   ],
   "source": [
    "a = 5\n",
    "print(a)\n",
    "\n",
    "b = a\n",
    "print(b)"
   ]
  },
  {
   "cell_type": "markdown",
   "id": "7d7b2100",
   "metadata": {},
   "source": [
    "![](img/2-5.png)"
   ]
  },
  {
   "cell_type": "markdown",
   "id": "d18a3893",
   "metadata": {},
   "source": [
    "### Types and instances:"
   ]
  },
  {
   "cell_type": "markdown",
   "id": "a6c6656b",
   "metadata": {},
   "source": [
    "type() and isinstance() is inbuilt function."
   ]
  },
  {
   "cell_type": "code",
   "execution_count": 10,
   "id": "302bccf5",
   "metadata": {
    "ExecuteTime": {
     "end_time": "2021-07-25T16:41:51.560069Z",
     "start_time": "2021-07-25T16:41:51.538004Z"
    }
   },
   "outputs": [
    {
     "data": {
      "text/plain": [
       "int"
      ]
     },
     "execution_count": 10,
     "metadata": {},
     "output_type": "execute_result"
    }
   ],
   "source": [
    "type(7)"
   ]
  },
  {
   "cell_type": "code",
   "execution_count": 11,
   "id": "7678a385",
   "metadata": {
    "ExecuteTime": {
     "end_time": "2021-07-25T16:42:01.721739Z",
     "start_time": "2021-07-25T16:42:01.712739Z"
    }
   },
   "outputs": [
    {
     "data": {
      "text/plain": [
       "True"
      ]
     },
     "execution_count": 11,
     "metadata": {},
     "output_type": "execute_result"
    }
   ],
   "source": [
    "type(7) == int"
   ]
  },
  {
   "cell_type": "code",
   "execution_count": 12,
   "id": "93939dff",
   "metadata": {
    "ExecuteTime": {
     "end_time": "2021-07-25T16:42:10.908275Z",
     "start_time": "2021-07-25T16:42:10.899323Z"
    }
   },
   "outputs": [
    {
     "data": {
      "text/plain": [
       "True"
      ]
     },
     "execution_count": 12,
     "metadata": {},
     "output_type": "execute_result"
    }
   ],
   "source": [
    "isinstance(7,int)"
   ]
  },
  {
   "cell_type": "code",
   "execution_count": 13,
   "id": "d77cc209",
   "metadata": {
    "ExecuteTime": {
     "end_time": "2021-07-25T16:42:20.654545Z",
     "start_time": "2021-07-25T16:42:20.636804Z"
    }
   },
   "outputs": [
    {
     "data": {
      "text/plain": [
       "False"
      ]
     },
     "execution_count": 13,
     "metadata": {},
     "output_type": "execute_result"
    }
   ],
   "source": [
    "isinstance(7,float)"
   ]
  },
  {
   "cell_type": "code",
   "execution_count": 14,
   "id": "c4970591",
   "metadata": {
    "ExecuteTime": {
     "end_time": "2021-07-25T16:44:31.815159Z",
     "start_time": "2021-07-25T16:44:31.801161Z"
    }
   },
   "outputs": [],
   "source": [
    "a = 7\n",
    "b = a\n"
   ]
  },
  {
   "cell_type": "code",
   "execution_count": 16,
   "id": "52a971f5",
   "metadata": {
    "ExecuteTime": {
     "end_time": "2021-07-25T16:44:56.917716Z",
     "start_time": "2021-07-25T16:44:56.886820Z"
    }
   },
   "outputs": [
    {
     "name": "stdout",
     "output_type": "stream",
     "text": [
      "<class 'int'>\n",
      "<class 'int'>\n"
     ]
    }
   ],
   "source": [
    "print(type(a))\n",
    "print(type(b))"
   ]
  },
  {
   "cell_type": "code",
   "execution_count": 18,
   "id": "d1dfadb1",
   "metadata": {
    "ExecuteTime": {
     "end_time": "2021-07-25T16:45:41.739479Z",
     "start_time": "2021-07-25T16:45:41.725498Z"
    }
   },
   "outputs": [
    {
     "name": "stdout",
     "output_type": "stream",
     "text": [
      "<class 'int'>\n",
      "<class 'float'>\n",
      "<class 'str'>\n"
     ]
    }
   ],
   "source": [
    "print(type(55))\n",
    "print(type(99.9))\n",
    "print(type('abc'))"
   ]
  },
  {
   "cell_type": "markdown",
   "id": "a06223de",
   "metadata": {},
   "source": [
    "A class is the definition of an object. In Python, `class` and `type` mean pretty much the same thing.\n"
   ]
  },
  {
   "cell_type": "markdown",
   "id": "dfa56eb2",
   "metadata": {},
   "source": [
    "## Execution of  python program:"
   ]
  },
  {
   "cell_type": "code",
   "execution_count": 20,
   "id": "373c40a3",
   "metadata": {
    "ExecuteTime": {
     "end_time": "2021-07-25T16:48:21.272880Z",
     "start_time": "2021-07-25T16:48:21.263880Z"
    }
   },
   "outputs": [
    {
     "data": {
      "text/plain": [
       "7"
      ]
     },
     "execution_count": 20,
     "metadata": {},
     "output_type": "execute_result"
    }
   ],
   "source": [
    "y = 5\n",
    "x = 12 - y\n",
    "x"
   ]
  },
  {
   "cell_type": "markdown",
   "id": "bb3255cd",
   "metadata": {},
   "source": [
    "In this code snippet, Python did the following:\n",
    "\n",
    "- Created an integer object with the value 5\n",
    "- Made a variable y point to that 5 object\n",
    "- Incremented the reference count of the object with value 5\n",
    "- Created another integer object with the value 12\n",
    "- Subtracted the value of the object that y prints to (5) from the value 12 in the (anonymous) object with that value\n",
    "- Assigned this value (7) to a new (so far, unnamed) integer object\n",
    "- Made the variable x point to this new object\n",
    "- Incremented the reference count of this new object that x points to\n",
    "- Looked up the value of the object that x points to (7) and printed it"
   ]
  },
  {
   "cell_type": "code",
   "execution_count": 26,
   "id": "9f2911ff",
   "metadata": {
    "ExecuteTime": {
     "end_time": "2021-07-25T16:53:38.559444Z",
     "start_time": "2021-07-25T16:53:38.552444Z"
    }
   },
   "outputs": [
    {
     "data": {
      "text/plain": [
       "710"
      ]
     },
     "execution_count": 26,
     "metadata": {},
     "output_type": "execute_result"
    }
   ],
   "source": [
    "import sys\n",
    "sys.getrefcount(y)"
   ]
  },
  {
   "cell_type": "code",
   "execution_count": 23,
   "id": "0a2de613",
   "metadata": {
    "ExecuteTime": {
     "end_time": "2021-07-25T16:53:01.493763Z",
     "start_time": "2021-07-25T16:53:01.465691Z"
    }
   },
   "outputs": [],
   "source": [
    "new_var_for_count = 13"
   ]
  },
  {
   "cell_type": "code",
   "execution_count": 27,
   "id": "09eb6340",
   "metadata": {
    "ExecuteTime": {
     "end_time": "2021-07-25T16:55:04.253009Z",
     "start_time": "2021-07-25T16:55:04.231248Z"
    }
   },
   "outputs": [
    {
     "data": {
      "text/plain": [
       "10"
      ]
     },
     "execution_count": 27,
     "metadata": {},
     "output_type": "execute_result"
    }
   ],
   "source": [
    "a = 10\n",
    "b = a\n",
    "c = b\n",
    "d = c\n",
    "d"
   ]
  },
  {
   "cell_type": "code",
   "execution_count": 28,
   "id": "dcbff596",
   "metadata": {
    "ExecuteTime": {
     "end_time": "2021-07-25T16:55:08.860730Z",
     "start_time": "2021-07-25T16:55:08.841028Z"
    }
   },
   "outputs": [
    {
     "data": {
      "text/plain": [
       "466"
      ]
     },
     "execution_count": 28,
     "metadata": {},
     "output_type": "execute_result"
    }
   ],
   "source": [
    "import sys\n",
    "sys.getrefcount(a)"
   ]
  },
  {
   "cell_type": "markdown",
   "id": "190832b9",
   "metadata": {},
   "source": [
    "When an object’s reference count reaches zero, no names are pointing to it,\n",
    "so it doesn’t need to stick around. Python has a charmingly named garbage\n",
    "collector that reuses the memory of things that are no longer needed.\n",
    "Picture someone behind those memory shelves, yanking obsolete boxes for\n",
    "recycling."
   ]
  },
  {
   "cell_type": "markdown",
   "id": "fdba1bc4",
   "metadata": {},
   "source": [
    "![](img/2-6.png)"
   ]
  },
  {
   "cell_type": "markdown",
   "id": "d7a7f30c",
   "metadata": {},
   "source": [
    "![](img/2-7.png)"
   ]
  },
  {
   "cell_type": "markdown",
   "id": "ceb6d5af",
   "metadata": {},
   "source": [
    "**Reassigning a Name:**\n",
    "Because names point to objects, changing the value assigned to a name just\n",
    "makes the name point to a new object. The reference count of the old object\n",
    "is decremented, and the new one’s is incremented."
   ]
  },
  {
   "cell_type": "markdown",
   "id": "8b8a322d",
   "metadata": {},
   "source": [
    "![](img/2-8.png)"
   ]
  },
  {
   "cell_type": "markdown",
   "id": "58a3b55c",
   "metadata": {},
   "source": [
    "## Assigning values to variables"
   ]
  },
  {
   "cell_type": "markdown",
   "id": "0cbdb389",
   "metadata": {},
   "source": [
    "You can assign a value to more than one variable name at the same time:"
   ]
  },
  {
   "cell_type": "code",
   "execution_count": 33,
   "id": "8c34a433",
   "metadata": {
    "ExecuteTime": {
     "end_time": "2021-07-25T17:05:07.403202Z",
     "start_time": "2021-07-25T17:05:07.378486Z"
    }
   },
   "outputs": [
    {
     "name": "stdout",
     "output_type": "stream",
     "text": [
      "6\n",
      "6\n",
      "6\n"
     ]
    }
   ],
   "source": [
    "a = b = c = 6\n",
    "print(a)\n",
    "print(b)\n",
    "print(c)"
   ]
  },
  {
   "cell_type": "markdown",
   "id": "414e121c",
   "metadata": {},
   "source": [
    "### Copying"
   ]
  },
  {
   "cell_type": "code",
   "execution_count": 38,
   "id": "949ec522",
   "metadata": {
    "ExecuteTime": {
     "end_time": "2021-07-25T17:09:27.750101Z",
     "start_time": "2021-07-25T17:09:27.730334Z"
    }
   },
   "outputs": [],
   "source": [
    "x = 5\n",
    "y = x"
   ]
  },
  {
   "cell_type": "code",
   "execution_count": 39,
   "id": "d6f1af5e",
   "metadata": {
    "ExecuteTime": {
     "end_time": "2021-07-25T17:09:27.967044Z",
     "start_time": "2021-07-25T17:09:27.961035Z"
    }
   },
   "outputs": [
    {
     "name": "stdout",
     "output_type": "stream",
     "text": [
      "5\n",
      "5\n"
     ]
    }
   ],
   "source": [
    "print(x)\n",
    "print(y)"
   ]
  },
  {
   "cell_type": "code",
   "execution_count": 40,
   "id": "a723aa9a",
   "metadata": {
    "ExecuteTime": {
     "end_time": "2021-07-25T17:09:28.151626Z",
     "start_time": "2021-07-25T17:09:28.135987Z"
    }
   },
   "outputs": [
    {
     "data": {
      "text/plain": [
       "20"
      ]
     },
     "execution_count": 40,
     "metadata": {},
     "output_type": "execute_result"
    }
   ],
   "source": [
    "x = 20\n",
    "x"
   ]
  },
  {
   "cell_type": "code",
   "execution_count": 41,
   "id": "e52f4d73",
   "metadata": {
    "ExecuteTime": {
     "end_time": "2021-07-25T17:09:28.321689Z",
     "start_time": "2021-07-25T17:09:28.305808Z"
    }
   },
   "outputs": [
    {
     "data": {
      "text/plain": [
       "5"
      ]
     },
     "execution_count": 41,
     "metadata": {},
     "output_type": "execute_result"
    }
   ],
   "source": [
    "y"
   ]
  },
  {
   "cell_type": "markdown",
   "id": "d93f2144",
   "metadata": {},
   "source": [
    "![](img/2-9.png)"
   ]
  },
  {
   "cell_type": "markdown",
   "id": "49af79d3",
   "metadata": {},
   "source": [
    "### Case for mutable object:"
   ]
  },
  {
   "cell_type": "markdown",
   "id": "4d107770",
   "metadata": {},
   "source": [
    "A list is a mutable array of values, "
   ]
  },
  {
   "cell_type": "code",
   "execution_count": 47,
   "id": "d4d0fa94",
   "metadata": {
    "ExecuteTime": {
     "end_time": "2021-07-25T17:13:02.392124Z",
     "start_time": "2021-07-25T17:13:02.363012Z"
    }
   },
   "outputs": [
    {
     "name": "stdout",
     "output_type": "stream",
     "text": [
      "[2, 4, 5]\n",
      "[2, 4, 5]\n"
     ]
    }
   ],
   "source": [
    "a = [2,4,5]\n",
    "b = a\n",
    "print(a)\n",
    "print(b)"
   ]
  },
  {
   "cell_type": "markdown",
   "id": "94fd43af",
   "metadata": {
    "ExecuteTime": {
     "end_time": "2021-07-25T17:12:09.397276Z",
     "start_time": "2021-07-25T17:12:09.375528Z"
    }
   },
   "source": [
    "These list members (a[0], a[1], and a[2]) are themselves like names,\n",
    "pointing to integer objects with the values 2, 4, and 6. The list object keeps\n",
    "its members in order."
   ]
  },
  {
   "cell_type": "code",
   "execution_count": 48,
   "id": "a878a5b8",
   "metadata": {
    "ExecuteTime": {
     "end_time": "2021-07-25T17:13:40.304975Z",
     "start_time": "2021-07-25T17:13:40.289342Z"
    }
   },
   "outputs": [
    {
     "name": "stdout",
     "output_type": "stream",
     "text": [
      "[99, 4, 5]\n",
      "[99, 4, 5]\n"
     ]
    }
   ],
   "source": [
    "a[0] = 99\n",
    "print(a)\n",
    "print(b)"
   ]
  },
  {
   "cell_type": "code",
   "execution_count": null,
   "id": "16308022",
   "metadata": {},
   "outputs": [],
   "source": []
  },
  {
   "cell_type": "markdown",
   "id": "0c3389ad",
   "metadata": {},
   "source": [
    "![](img/2-10.png)"
   ]
  }
 ],
 "metadata": {
  "kernelspec": {
   "display_name": "Python 3",
   "language": "python",
   "name": "python3"
  },
  "language_info": {
   "codemirror_mode": {
    "name": "ipython",
    "version": 3
   },
   "file_extension": ".py",
   "mimetype": "text/x-python",
   "name": "python",
   "nbconvert_exporter": "python",
   "pygments_lexer": "ipython3",
   "version": "3.8.10"
  },
  "toc": {
   "base_numbering": "1",
   "nav_menu": {},
   "number_sections": true,
   "sideBar": true,
   "skip_h1_title": false,
   "title_cell": "Table of Contents",
   "title_sidebar": "Contents",
   "toc_cell": true,
   "toc_position": {
    "height": "calc(100% - 180px)",
    "left": "10px",
    "top": "150px",
    "width": "250.475px"
   },
   "toc_section_display": true,
   "toc_window_display": false
  }
 },
 "nbformat": 4,
 "nbformat_minor": 5
}
